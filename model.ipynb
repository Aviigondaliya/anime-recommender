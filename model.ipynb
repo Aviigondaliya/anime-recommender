{
 "cells": [
  {
   "cell_type": "code",
   "execution_count": 1,
   "id": "49bb71ad",
   "metadata": {},
   "outputs": [],
   "source": [
    "import numpy as np \n",
    "import pandas as pd\n",
    "import matplotlib.pyplot as plt\n",
    "import seaborn as sns\n",
    "%matplotlib inline"
   ]
  },
  {
   "cell_type": "markdown",
   "id": "08d15727",
   "metadata": {},
   "source": [
    "# data analysis \n"
   ]
  },
  {
   "cell_type": "code",
   "execution_count": 2,
   "id": "2d361732",
   "metadata": {},
   "outputs": [],
   "source": [
    "df = pd.read_csv('AnimeList.csv')"
   ]
  },
  {
   "cell_type": "code",
   "execution_count": 3,
   "id": "271ae6ad",
   "metadata": {},
   "outputs": [
    {
     "data": {
      "text/plain": [
       "0        https://myanimelist.cdn-dena.com/images/anime/...\n",
       "1        https://myanimelist.cdn-dena.com/images/anime/...\n",
       "2        https://myanimelist.cdn-dena.com/images/anime/...\n",
       "3        https://myanimelist.cdn-dena.com/images/anime/...\n",
       "4        https://myanimelist.cdn-dena.com/images/anime/...\n",
       "                               ...                        \n",
       "14473    https://myanimelist.cdn-dena.com/images/anime/...\n",
       "14474    https://myanimelist.cdn-dena.com/images/anime/...\n",
       "14475    https://myanimelist.cdn-dena.com/images/anime/...\n",
       "14476    https://myanimelist.cdn-dena.com/images/anime/...\n",
       "14477    https://myanimelist.cdn-dena.com/images/anime/...\n",
       "Name: image_url, Length: 14478, dtype: object"
      ]
     },
     "execution_count": 3,
     "metadata": {},
     "output_type": "execute_result"
    }
   ],
   "source": [
    "df[\"image_url\"]"
   ]
  },
  {
   "cell_type": "code",
   "execution_count": 4,
   "id": "1739a75e",
   "metadata": {},
   "outputs": [
    {
     "data": {
      "text/html": [
       "<div>\n",
       "<style scoped>\n",
       "    .dataframe tbody tr th:only-of-type {\n",
       "        vertical-align: middle;\n",
       "    }\n",
       "\n",
       "    .dataframe tbody tr th {\n",
       "        vertical-align: top;\n",
       "    }\n",
       "\n",
       "    .dataframe thead th {\n",
       "        text-align: right;\n",
       "    }\n",
       "</style>\n",
       "<table border=\"1\" class=\"dataframe\">\n",
       "  <thead>\n",
       "    <tr style=\"text-align: right;\">\n",
       "      <th></th>\n",
       "      <th>anime_id</th>\n",
       "      <th>title</th>\n",
       "      <th>title_english</th>\n",
       "      <th>title_japanese</th>\n",
       "      <th>title_synonyms</th>\n",
       "      <th>image_url</th>\n",
       "      <th>type</th>\n",
       "      <th>source</th>\n",
       "      <th>episodes</th>\n",
       "      <th>status</th>\n",
       "      <th>...</th>\n",
       "      <th>background</th>\n",
       "      <th>premiered</th>\n",
       "      <th>broadcast</th>\n",
       "      <th>related</th>\n",
       "      <th>producer</th>\n",
       "      <th>licensor</th>\n",
       "      <th>studio</th>\n",
       "      <th>genre</th>\n",
       "      <th>opening_theme</th>\n",
       "      <th>ending_theme</th>\n",
       "    </tr>\n",
       "  </thead>\n",
       "  <tbody>\n",
       "    <tr>\n",
       "      <th>0</th>\n",
       "      <td>11013</td>\n",
       "      <td>Inu x Boku SS</td>\n",
       "      <td>Inu X Boku Secret Service</td>\n",
       "      <td>妖狐×僕SS</td>\n",
       "      <td>Youko x Boku SS</td>\n",
       "      <td>https://myanimelist.cdn-dena.com/images/anime/...</td>\n",
       "      <td>TV</td>\n",
       "      <td>Manga</td>\n",
       "      <td>12</td>\n",
       "      <td>Finished Airing</td>\n",
       "      <td>...</td>\n",
       "      <td>Inu x Boku SS was licensed by Sentai Filmworks...</td>\n",
       "      <td>Winter 2012</td>\n",
       "      <td>Fridays at Unknown</td>\n",
       "      <td>{'Adaptation': [{'mal_id': 17207, 'type': 'man...</td>\n",
       "      <td>Aniplex, Square Enix, Mainichi Broadcasting Sy...</td>\n",
       "      <td>Sentai Filmworks</td>\n",
       "      <td>David Production</td>\n",
       "      <td>Comedy, Supernatural, Romance, Shounen</td>\n",
       "      <td>['\"Nirvana\" by MUCC']</td>\n",
       "      <td>['#1: \"Nirvana\" by MUCC (eps 1, 11-12)', '#2: ...</td>\n",
       "    </tr>\n",
       "    <tr>\n",
       "      <th>1</th>\n",
       "      <td>2104</td>\n",
       "      <td>Seto no Hanayome</td>\n",
       "      <td>My Bride is a Mermaid</td>\n",
       "      <td>瀬戸の花嫁</td>\n",
       "      <td>The Inland Sea Bride</td>\n",
       "      <td>https://myanimelist.cdn-dena.com/images/anime/...</td>\n",
       "      <td>TV</td>\n",
       "      <td>Manga</td>\n",
       "      <td>26</td>\n",
       "      <td>Finished Airing</td>\n",
       "      <td>...</td>\n",
       "      <td>NaN</td>\n",
       "      <td>Spring 2007</td>\n",
       "      <td>Unknown</td>\n",
       "      <td>{'Adaptation': [{'mal_id': 759, 'type': 'manga...</td>\n",
       "      <td>TV Tokyo, AIC, Square Enix, Sotsu</td>\n",
       "      <td>Funimation</td>\n",
       "      <td>Gonzo</td>\n",
       "      <td>Comedy, Parody, Romance, School, Shounen</td>\n",
       "      <td>['\"Romantic summer\" by SUN&amp;LUNAR']</td>\n",
       "      <td>['#1: \"Ashita e no Hikari (明日への光)\" by Asuka Hi...</td>\n",
       "    </tr>\n",
       "    <tr>\n",
       "      <th>2</th>\n",
       "      <td>5262</td>\n",
       "      <td>Shugo Chara!! Doki</td>\n",
       "      <td>Shugo Chara!! Doki</td>\n",
       "      <td>しゅごキャラ！！どきっ</td>\n",
       "      <td>Shugo Chara Ninenme, Shugo Chara! Second Year</td>\n",
       "      <td>https://myanimelist.cdn-dena.com/images/anime/...</td>\n",
       "      <td>TV</td>\n",
       "      <td>Manga</td>\n",
       "      <td>51</td>\n",
       "      <td>Finished Airing</td>\n",
       "      <td>...</td>\n",
       "      <td>NaN</td>\n",
       "      <td>Fall 2008</td>\n",
       "      <td>Unknown</td>\n",
       "      <td>{'Adaptation': [{'mal_id': 101, 'type': 'manga...</td>\n",
       "      <td>TV Tokyo, Sotsu</td>\n",
       "      <td>NaN</td>\n",
       "      <td>Satelight</td>\n",
       "      <td>Comedy, Magic, School, Shoujo</td>\n",
       "      <td>['#1: \"Minna no Tamago (みんなのたまご)\" by Shugo Cha...</td>\n",
       "      <td>['#1: \"Rottara Rottara (ロッタラ ロッタラ)\" by Buono! ...</td>\n",
       "    </tr>\n",
       "    <tr>\n",
       "      <th>3</th>\n",
       "      <td>721</td>\n",
       "      <td>Princess Tutu</td>\n",
       "      <td>Princess Tutu</td>\n",
       "      <td>プリンセスチュチュ</td>\n",
       "      <td>NaN</td>\n",
       "      <td>https://myanimelist.cdn-dena.com/images/anime/...</td>\n",
       "      <td>TV</td>\n",
       "      <td>Original</td>\n",
       "      <td>38</td>\n",
       "      <td>Finished Airing</td>\n",
       "      <td>...</td>\n",
       "      <td>Princess Tutu aired in two parts. The first pa...</td>\n",
       "      <td>Summer 2002</td>\n",
       "      <td>Fridays at Unknown</td>\n",
       "      <td>{'Adaptation': [{'mal_id': 1581, 'type': 'mang...</td>\n",
       "      <td>Memory-Tech, GANSIS, Marvelous AQL</td>\n",
       "      <td>ADV Films</td>\n",
       "      <td>Hal Film Maker</td>\n",
       "      <td>Comedy, Drama, Magic, Romance, Fantasy</td>\n",
       "      <td>['\"Morning Grace\" by Ritsuko Okazaki']</td>\n",
       "      <td>['\"Watashi No Ai Wa Chiisaikeredo\" by Ritsuko ...</td>\n",
       "    </tr>\n",
       "    <tr>\n",
       "      <th>4</th>\n",
       "      <td>12365</td>\n",
       "      <td>Bakuman. 3rd Season</td>\n",
       "      <td>Bakuman.</td>\n",
       "      <td>バクマン。</td>\n",
       "      <td>Bakuman Season 3</td>\n",
       "      <td>https://myanimelist.cdn-dena.com/images/anime/...</td>\n",
       "      <td>TV</td>\n",
       "      <td>Manga</td>\n",
       "      <td>25</td>\n",
       "      <td>Finished Airing</td>\n",
       "      <td>...</td>\n",
       "      <td>NaN</td>\n",
       "      <td>Fall 2012</td>\n",
       "      <td>Unknown</td>\n",
       "      <td>{'Adaptation': [{'mal_id': 9711, 'type': 'mang...</td>\n",
       "      <td>NHK, Shueisha</td>\n",
       "      <td>NaN</td>\n",
       "      <td>J.C.Staff</td>\n",
       "      <td>Comedy, Drama, Romance, Shounen</td>\n",
       "      <td>['#1: \"Moshimo no Hanashi (もしもの話)\" by nano.RIP...</td>\n",
       "      <td>['#1: \"Pride on Everyday\" by Sphere (eps 1-13)...</td>\n",
       "    </tr>\n",
       "    <tr>\n",
       "      <th>...</th>\n",
       "      <td>...</td>\n",
       "      <td>...</td>\n",
       "      <td>...</td>\n",
       "      <td>...</td>\n",
       "      <td>...</td>\n",
       "      <td>...</td>\n",
       "      <td>...</td>\n",
       "      <td>...</td>\n",
       "      <td>...</td>\n",
       "      <td>...</td>\n",
       "      <td>...</td>\n",
       "      <td>...</td>\n",
       "      <td>...</td>\n",
       "      <td>...</td>\n",
       "      <td>...</td>\n",
       "      <td>...</td>\n",
       "      <td>...</td>\n",
       "      <td>...</td>\n",
       "      <td>...</td>\n",
       "      <td>...</td>\n",
       "      <td>...</td>\n",
       "    </tr>\n",
       "    <tr>\n",
       "      <th>14473</th>\n",
       "      <td>26089</td>\n",
       "      <td>Gutchonpa Omoshiro Hanashi</td>\n",
       "      <td>NaN</td>\n",
       "      <td>グッチョンパおもしろ話</td>\n",
       "      <td>NaN</td>\n",
       "      <td>https://myanimelist.cdn-dena.com/images/anime/...</td>\n",
       "      <td>TV</td>\n",
       "      <td>Unknown</td>\n",
       "      <td>5</td>\n",
       "      <td>Finished Airing</td>\n",
       "      <td>...</td>\n",
       "      <td>NaN</td>\n",
       "      <td>Fall 1987</td>\n",
       "      <td>Unknown</td>\n",
       "      <td>{'Other': [{'mal_id': 26087, 'type': 'anime', ...</td>\n",
       "      <td>NaN</td>\n",
       "      <td>NaN</td>\n",
       "      <td>NaN</td>\n",
       "      <td>Kids</td>\n",
       "      <td>[]</td>\n",
       "      <td>[]</td>\n",
       "    </tr>\n",
       "    <tr>\n",
       "      <th>14474</th>\n",
       "      <td>21525</td>\n",
       "      <td>Geba Geba Shou Time!</td>\n",
       "      <td>NaN</td>\n",
       "      <td>ゲバゲバ笑タイム!</td>\n",
       "      <td>NaN</td>\n",
       "      <td>https://myanimelist.cdn-dena.com/images/anime/...</td>\n",
       "      <td>OVA</td>\n",
       "      <td>Unknown</td>\n",
       "      <td>1</td>\n",
       "      <td>Finished Airing</td>\n",
       "      <td>...</td>\n",
       "      <td>NaN</td>\n",
       "      <td>NaN</td>\n",
       "      <td>NaN</td>\n",
       "      <td>[]</td>\n",
       "      <td>Studio Lotus</td>\n",
       "      <td>NaN</td>\n",
       "      <td>NaN</td>\n",
       "      <td>Comedy</td>\n",
       "      <td>[]</td>\n",
       "      <td>[]</td>\n",
       "    </tr>\n",
       "    <tr>\n",
       "      <th>14475</th>\n",
       "      <td>37897</td>\n",
       "      <td>Godzilla: Hoshi wo Kuu Mono</td>\n",
       "      <td>NaN</td>\n",
       "      <td>GODZILLA -星を喰う者-</td>\n",
       "      <td>Godzilla Part 3, Godzilla: Eater of Stars</td>\n",
       "      <td>https://myanimelist.cdn-dena.com/images/anime/...</td>\n",
       "      <td>Movie</td>\n",
       "      <td>Other</td>\n",
       "      <td>1</td>\n",
       "      <td>Not yet aired</td>\n",
       "      <td>...</td>\n",
       "      <td>NaN</td>\n",
       "      <td>NaN</td>\n",
       "      <td>NaN</td>\n",
       "      <td>{'Prequel': [{'mal_id': 36816, 'type': 'anime'...</td>\n",
       "      <td>NaN</td>\n",
       "      <td>NaN</td>\n",
       "      <td>NaN</td>\n",
       "      <td>Action, Sci-Fi, Adventure, Fantasy</td>\n",
       "      <td>[]</td>\n",
       "      <td>[]</td>\n",
       "    </tr>\n",
       "    <tr>\n",
       "      <th>14476</th>\n",
       "      <td>34193</td>\n",
       "      <td>Nippon Mukashibanashi: Sannen Netarou</td>\n",
       "      <td>NaN</td>\n",
       "      <td>日本昔ばなし 三ねん寝太郎</td>\n",
       "      <td>NaN</td>\n",
       "      <td>https://myanimelist.cdn-dena.com/images/anime/...</td>\n",
       "      <td>OVA</td>\n",
       "      <td>Other</td>\n",
       "      <td>1</td>\n",
       "      <td>Finished Airing</td>\n",
       "      <td>...</td>\n",
       "      <td>NaN</td>\n",
       "      <td>NaN</td>\n",
       "      <td>NaN</td>\n",
       "      <td>[]</td>\n",
       "      <td>NaN</td>\n",
       "      <td>NaN</td>\n",
       "      <td>NaN</td>\n",
       "      <td>Fantasy, Kids</td>\n",
       "      <td>[]</td>\n",
       "      <td>[]</td>\n",
       "    </tr>\n",
       "    <tr>\n",
       "      <th>14477</th>\n",
       "      <td>37908</td>\n",
       "      <td>Senjou no Valkyria Special</td>\n",
       "      <td>NaN</td>\n",
       "      <td>戦場のヴァルキュリア Valkyria Chronicles</td>\n",
       "      <td>Senjou no Valkyria Fake Movie Promo</td>\n",
       "      <td>https://myanimelist.cdn-dena.com/images/anime/...</td>\n",
       "      <td>Special</td>\n",
       "      <td>Unknown</td>\n",
       "      <td>1</td>\n",
       "      <td>Finished Airing</td>\n",
       "      <td>...</td>\n",
       "      <td>NaN</td>\n",
       "      <td>NaN</td>\n",
       "      <td>NaN</td>\n",
       "      <td>{'Other': [{'mal_id': 5507, 'type': 'anime', '...</td>\n",
       "      <td>NaN</td>\n",
       "      <td>NaN</td>\n",
       "      <td>A-1 Pictures</td>\n",
       "      <td>Comedy</td>\n",
       "      <td>[]</td>\n",
       "      <td>[]</td>\n",
       "    </tr>\n",
       "  </tbody>\n",
       "</table>\n",
       "<p>14478 rows × 31 columns</p>\n",
       "</div>"
      ],
      "text/plain": [
       "       anime_id                                  title  \\\n",
       "0         11013                          Inu x Boku SS   \n",
       "1          2104                       Seto no Hanayome   \n",
       "2          5262                     Shugo Chara!! Doki   \n",
       "3           721                          Princess Tutu   \n",
       "4         12365                    Bakuman. 3rd Season   \n",
       "...         ...                                    ...   \n",
       "14473     26089             Gutchonpa Omoshiro Hanashi   \n",
       "14474     21525                   Geba Geba Shou Time!   \n",
       "14475     37897            Godzilla: Hoshi wo Kuu Mono   \n",
       "14476     34193  Nippon Mukashibanashi: Sannen Netarou   \n",
       "14477     37908             Senjou no Valkyria Special   \n",
       "\n",
       "                   title_english                  title_japanese  \\\n",
       "0      Inu X Boku Secret Service                          妖狐×僕SS   \n",
       "1          My Bride is a Mermaid                           瀬戸の花嫁   \n",
       "2             Shugo Chara!! Doki                     しゅごキャラ！！どきっ   \n",
       "3                  Princess Tutu                       プリンセスチュチュ   \n",
       "4                       Bakuman.                           バクマン。   \n",
       "...                          ...                             ...   \n",
       "14473                        NaN                     グッチョンパおもしろ話   \n",
       "14474                        NaN                       ゲバゲバ笑タイム!   \n",
       "14475                        NaN                GODZILLA -星を喰う者-   \n",
       "14476                        NaN                   日本昔ばなし 三ねん寝太郎   \n",
       "14477                        NaN  戦場のヴァルキュリア Valkyria Chronicles   \n",
       "\n",
       "                                      title_synonyms  \\\n",
       "0                                    Youko x Boku SS   \n",
       "1                               The Inland Sea Bride   \n",
       "2      Shugo Chara Ninenme, Shugo Chara! Second Year   \n",
       "3                                                NaN   \n",
       "4                                   Bakuman Season 3   \n",
       "...                                              ...   \n",
       "14473                                            NaN   \n",
       "14474                                            NaN   \n",
       "14475      Godzilla Part 3, Godzilla: Eater of Stars   \n",
       "14476                                            NaN   \n",
       "14477            Senjou no Valkyria Fake Movie Promo   \n",
       "\n",
       "                                               image_url     type    source  \\\n",
       "0      https://myanimelist.cdn-dena.com/images/anime/...       TV     Manga   \n",
       "1      https://myanimelist.cdn-dena.com/images/anime/...       TV     Manga   \n",
       "2      https://myanimelist.cdn-dena.com/images/anime/...       TV     Manga   \n",
       "3      https://myanimelist.cdn-dena.com/images/anime/...       TV  Original   \n",
       "4      https://myanimelist.cdn-dena.com/images/anime/...       TV     Manga   \n",
       "...                                                  ...      ...       ...   \n",
       "14473  https://myanimelist.cdn-dena.com/images/anime/...       TV   Unknown   \n",
       "14474  https://myanimelist.cdn-dena.com/images/anime/...      OVA   Unknown   \n",
       "14475  https://myanimelist.cdn-dena.com/images/anime/...    Movie     Other   \n",
       "14476  https://myanimelist.cdn-dena.com/images/anime/...      OVA     Other   \n",
       "14477  https://myanimelist.cdn-dena.com/images/anime/...  Special   Unknown   \n",
       "\n",
       "       episodes           status  ...  \\\n",
       "0            12  Finished Airing  ...   \n",
       "1            26  Finished Airing  ...   \n",
       "2            51  Finished Airing  ...   \n",
       "3            38  Finished Airing  ...   \n",
       "4            25  Finished Airing  ...   \n",
       "...         ...              ...  ...   \n",
       "14473         5  Finished Airing  ...   \n",
       "14474         1  Finished Airing  ...   \n",
       "14475         1    Not yet aired  ...   \n",
       "14476         1  Finished Airing  ...   \n",
       "14477         1  Finished Airing  ...   \n",
       "\n",
       "                                              background    premiered  \\\n",
       "0      Inu x Boku SS was licensed by Sentai Filmworks...  Winter 2012   \n",
       "1                                                    NaN  Spring 2007   \n",
       "2                                                    NaN    Fall 2008   \n",
       "3      Princess Tutu aired in two parts. The first pa...  Summer 2002   \n",
       "4                                                    NaN    Fall 2012   \n",
       "...                                                  ...          ...   \n",
       "14473                                                NaN    Fall 1987   \n",
       "14474                                                NaN          NaN   \n",
       "14475                                                NaN          NaN   \n",
       "14476                                                NaN          NaN   \n",
       "14477                                                NaN          NaN   \n",
       "\n",
       "                broadcast                                            related  \\\n",
       "0      Fridays at Unknown  {'Adaptation': [{'mal_id': 17207, 'type': 'man...   \n",
       "1                 Unknown  {'Adaptation': [{'mal_id': 759, 'type': 'manga...   \n",
       "2                 Unknown  {'Adaptation': [{'mal_id': 101, 'type': 'manga...   \n",
       "3      Fridays at Unknown  {'Adaptation': [{'mal_id': 1581, 'type': 'mang...   \n",
       "4                 Unknown  {'Adaptation': [{'mal_id': 9711, 'type': 'mang...   \n",
       "...                   ...                                                ...   \n",
       "14473             Unknown  {'Other': [{'mal_id': 26087, 'type': 'anime', ...   \n",
       "14474                 NaN                                                 []   \n",
       "14475                 NaN  {'Prequel': [{'mal_id': 36816, 'type': 'anime'...   \n",
       "14476                 NaN                                                 []   \n",
       "14477                 NaN  {'Other': [{'mal_id': 5507, 'type': 'anime', '...   \n",
       "\n",
       "                                                producer          licensor  \\\n",
       "0      Aniplex, Square Enix, Mainichi Broadcasting Sy...  Sentai Filmworks   \n",
       "1                      TV Tokyo, AIC, Square Enix, Sotsu        Funimation   \n",
       "2                                        TV Tokyo, Sotsu               NaN   \n",
       "3                     Memory-Tech, GANSIS, Marvelous AQL         ADV Films   \n",
       "4                                          NHK, Shueisha               NaN   \n",
       "...                                                  ...               ...   \n",
       "14473                                                NaN               NaN   \n",
       "14474                                       Studio Lotus               NaN   \n",
       "14475                                                NaN               NaN   \n",
       "14476                                                NaN               NaN   \n",
       "14477                                                NaN               NaN   \n",
       "\n",
       "                 studio                                     genre  \\\n",
       "0      David Production    Comedy, Supernatural, Romance, Shounen   \n",
       "1                 Gonzo  Comedy, Parody, Romance, School, Shounen   \n",
       "2             Satelight             Comedy, Magic, School, Shoujo   \n",
       "3        Hal Film Maker    Comedy, Drama, Magic, Romance, Fantasy   \n",
       "4             J.C.Staff           Comedy, Drama, Romance, Shounen   \n",
       "...                 ...                                       ...   \n",
       "14473               NaN                                      Kids   \n",
       "14474               NaN                                    Comedy   \n",
       "14475               NaN        Action, Sci-Fi, Adventure, Fantasy   \n",
       "14476               NaN                             Fantasy, Kids   \n",
       "14477      A-1 Pictures                                    Comedy   \n",
       "\n",
       "                                           opening_theme  \\\n",
       "0                                  ['\"Nirvana\" by MUCC']   \n",
       "1                     ['\"Romantic summer\" by SUN&LUNAR']   \n",
       "2      ['#1: \"Minna no Tamago (みんなのたまご)\" by Shugo Cha...   \n",
       "3                 ['\"Morning Grace\" by Ritsuko Okazaki']   \n",
       "4      ['#1: \"Moshimo no Hanashi (もしもの話)\" by nano.RIP...   \n",
       "...                                                  ...   \n",
       "14473                                                 []   \n",
       "14474                                                 []   \n",
       "14475                                                 []   \n",
       "14476                                                 []   \n",
       "14477                                                 []   \n",
       "\n",
       "                                            ending_theme  \n",
       "0      ['#1: \"Nirvana\" by MUCC (eps 1, 11-12)', '#2: ...  \n",
       "1      ['#1: \"Ashita e no Hikari (明日への光)\" by Asuka Hi...  \n",
       "2      ['#1: \"Rottara Rottara (ロッタラ ロッタラ)\" by Buono! ...  \n",
       "3      ['\"Watashi No Ai Wa Chiisaikeredo\" by Ritsuko ...  \n",
       "4      ['#1: \"Pride on Everyday\" by Sphere (eps 1-13)...  \n",
       "...                                                  ...  \n",
       "14473                                                 []  \n",
       "14474                                                 []  \n",
       "14475                                                 []  \n",
       "14476                                                 []  \n",
       "14477                                                 []  \n",
       "\n",
       "[14478 rows x 31 columns]"
      ]
     },
     "execution_count": 4,
     "metadata": {},
     "output_type": "execute_result"
    }
   ],
   "source": [
    "df"
   ]
  },
  {
   "cell_type": "code",
   "execution_count": 5,
   "id": "68c3d788",
   "metadata": {},
   "outputs": [
    {
     "data": {
      "text/html": [
       "<div>\n",
       "<style scoped>\n",
       "    .dataframe tbody tr th:only-of-type {\n",
       "        vertical-align: middle;\n",
       "    }\n",
       "\n",
       "    .dataframe tbody tr th {\n",
       "        vertical-align: top;\n",
       "    }\n",
       "\n",
       "    .dataframe thead th {\n",
       "        text-align: right;\n",
       "    }\n",
       "</style>\n",
       "<table border=\"1\" class=\"dataframe\">\n",
       "  <thead>\n",
       "    <tr style=\"text-align: right;\">\n",
       "      <th></th>\n",
       "      <th>anime_id</th>\n",
       "      <th>title</th>\n",
       "      <th>title_english</th>\n",
       "      <th>title_japanese</th>\n",
       "      <th>title_synonyms</th>\n",
       "      <th>image_url</th>\n",
       "      <th>type</th>\n",
       "      <th>source</th>\n",
       "      <th>episodes</th>\n",
       "      <th>status</th>\n",
       "      <th>...</th>\n",
       "      <th>background</th>\n",
       "      <th>premiered</th>\n",
       "      <th>broadcast</th>\n",
       "      <th>related</th>\n",
       "      <th>producer</th>\n",
       "      <th>licensor</th>\n",
       "      <th>studio</th>\n",
       "      <th>genre</th>\n",
       "      <th>opening_theme</th>\n",
       "      <th>ending_theme</th>\n",
       "    </tr>\n",
       "  </thead>\n",
       "  <tbody>\n",
       "    <tr>\n",
       "      <th>0</th>\n",
       "      <td>11013</td>\n",
       "      <td>Inu x Boku SS</td>\n",
       "      <td>Inu X Boku Secret Service</td>\n",
       "      <td>妖狐×僕SS</td>\n",
       "      <td>Youko x Boku SS</td>\n",
       "      <td>https://myanimelist.cdn-dena.com/images/anime/...</td>\n",
       "      <td>TV</td>\n",
       "      <td>Manga</td>\n",
       "      <td>12</td>\n",
       "      <td>Finished Airing</td>\n",
       "      <td>...</td>\n",
       "      <td>Inu x Boku SS was licensed by Sentai Filmworks...</td>\n",
       "      <td>Winter 2012</td>\n",
       "      <td>Fridays at Unknown</td>\n",
       "      <td>{'Adaptation': [{'mal_id': 17207, 'type': 'man...</td>\n",
       "      <td>Aniplex, Square Enix, Mainichi Broadcasting Sy...</td>\n",
       "      <td>Sentai Filmworks</td>\n",
       "      <td>David Production</td>\n",
       "      <td>Comedy, Supernatural, Romance, Shounen</td>\n",
       "      <td>['\"Nirvana\" by MUCC']</td>\n",
       "      <td>['#1: \"Nirvana\" by MUCC (eps 1, 11-12)', '#2: ...</td>\n",
       "    </tr>\n",
       "    <tr>\n",
       "      <th>1</th>\n",
       "      <td>2104</td>\n",
       "      <td>Seto no Hanayome</td>\n",
       "      <td>My Bride is a Mermaid</td>\n",
       "      <td>瀬戸の花嫁</td>\n",
       "      <td>The Inland Sea Bride</td>\n",
       "      <td>https://myanimelist.cdn-dena.com/images/anime/...</td>\n",
       "      <td>TV</td>\n",
       "      <td>Manga</td>\n",
       "      <td>26</td>\n",
       "      <td>Finished Airing</td>\n",
       "      <td>...</td>\n",
       "      <td>NaN</td>\n",
       "      <td>Spring 2007</td>\n",
       "      <td>Unknown</td>\n",
       "      <td>{'Adaptation': [{'mal_id': 759, 'type': 'manga...</td>\n",
       "      <td>TV Tokyo, AIC, Square Enix, Sotsu</td>\n",
       "      <td>Funimation</td>\n",
       "      <td>Gonzo</td>\n",
       "      <td>Comedy, Parody, Romance, School, Shounen</td>\n",
       "      <td>['\"Romantic summer\" by SUN&amp;LUNAR']</td>\n",
       "      <td>['#1: \"Ashita e no Hikari (明日への光)\" by Asuka Hi...</td>\n",
       "    </tr>\n",
       "    <tr>\n",
       "      <th>2</th>\n",
       "      <td>5262</td>\n",
       "      <td>Shugo Chara!! Doki</td>\n",
       "      <td>Shugo Chara!! Doki</td>\n",
       "      <td>しゅごキャラ！！どきっ</td>\n",
       "      <td>Shugo Chara Ninenme, Shugo Chara! Second Year</td>\n",
       "      <td>https://myanimelist.cdn-dena.com/images/anime/...</td>\n",
       "      <td>TV</td>\n",
       "      <td>Manga</td>\n",
       "      <td>51</td>\n",
       "      <td>Finished Airing</td>\n",
       "      <td>...</td>\n",
       "      <td>NaN</td>\n",
       "      <td>Fall 2008</td>\n",
       "      <td>Unknown</td>\n",
       "      <td>{'Adaptation': [{'mal_id': 101, 'type': 'manga...</td>\n",
       "      <td>TV Tokyo, Sotsu</td>\n",
       "      <td>NaN</td>\n",
       "      <td>Satelight</td>\n",
       "      <td>Comedy, Magic, School, Shoujo</td>\n",
       "      <td>['#1: \"Minna no Tamago (みんなのたまご)\" by Shugo Cha...</td>\n",
       "      <td>['#1: \"Rottara Rottara (ロッタラ ロッタラ)\" by Buono! ...</td>\n",
       "    </tr>\n",
       "    <tr>\n",
       "      <th>3</th>\n",
       "      <td>721</td>\n",
       "      <td>Princess Tutu</td>\n",
       "      <td>Princess Tutu</td>\n",
       "      <td>プリンセスチュチュ</td>\n",
       "      <td>NaN</td>\n",
       "      <td>https://myanimelist.cdn-dena.com/images/anime/...</td>\n",
       "      <td>TV</td>\n",
       "      <td>Original</td>\n",
       "      <td>38</td>\n",
       "      <td>Finished Airing</td>\n",
       "      <td>...</td>\n",
       "      <td>Princess Tutu aired in two parts. The first pa...</td>\n",
       "      <td>Summer 2002</td>\n",
       "      <td>Fridays at Unknown</td>\n",
       "      <td>{'Adaptation': [{'mal_id': 1581, 'type': 'mang...</td>\n",
       "      <td>Memory-Tech, GANSIS, Marvelous AQL</td>\n",
       "      <td>ADV Films</td>\n",
       "      <td>Hal Film Maker</td>\n",
       "      <td>Comedy, Drama, Magic, Romance, Fantasy</td>\n",
       "      <td>['\"Morning Grace\" by Ritsuko Okazaki']</td>\n",
       "      <td>['\"Watashi No Ai Wa Chiisaikeredo\" by Ritsuko ...</td>\n",
       "    </tr>\n",
       "    <tr>\n",
       "      <th>4</th>\n",
       "      <td>12365</td>\n",
       "      <td>Bakuman. 3rd Season</td>\n",
       "      <td>Bakuman.</td>\n",
       "      <td>バクマン。</td>\n",
       "      <td>Bakuman Season 3</td>\n",
       "      <td>https://myanimelist.cdn-dena.com/images/anime/...</td>\n",
       "      <td>TV</td>\n",
       "      <td>Manga</td>\n",
       "      <td>25</td>\n",
       "      <td>Finished Airing</td>\n",
       "      <td>...</td>\n",
       "      <td>NaN</td>\n",
       "      <td>Fall 2012</td>\n",
       "      <td>Unknown</td>\n",
       "      <td>{'Adaptation': [{'mal_id': 9711, 'type': 'mang...</td>\n",
       "      <td>NHK, Shueisha</td>\n",
       "      <td>NaN</td>\n",
       "      <td>J.C.Staff</td>\n",
       "      <td>Comedy, Drama, Romance, Shounen</td>\n",
       "      <td>['#1: \"Moshimo no Hanashi (もしもの話)\" by nano.RIP...</td>\n",
       "      <td>['#1: \"Pride on Everyday\" by Sphere (eps 1-13)...</td>\n",
       "    </tr>\n",
       "  </tbody>\n",
       "</table>\n",
       "<p>5 rows × 31 columns</p>\n",
       "</div>"
      ],
      "text/plain": [
       "   anime_id                title              title_english title_japanese  \\\n",
       "0     11013        Inu x Boku SS  Inu X Boku Secret Service         妖狐×僕SS   \n",
       "1      2104     Seto no Hanayome      My Bride is a Mermaid          瀬戸の花嫁   \n",
       "2      5262   Shugo Chara!! Doki         Shugo Chara!! Doki    しゅごキャラ！！どきっ   \n",
       "3       721        Princess Tutu              Princess Tutu      プリンセスチュチュ   \n",
       "4     12365  Bakuman. 3rd Season                   Bakuman.          バクマン。   \n",
       "\n",
       "                                  title_synonyms  \\\n",
       "0                                Youko x Boku SS   \n",
       "1                           The Inland Sea Bride   \n",
       "2  Shugo Chara Ninenme, Shugo Chara! Second Year   \n",
       "3                                            NaN   \n",
       "4                               Bakuman Season 3   \n",
       "\n",
       "                                           image_url type    source  episodes  \\\n",
       "0  https://myanimelist.cdn-dena.com/images/anime/...   TV     Manga        12   \n",
       "1  https://myanimelist.cdn-dena.com/images/anime/...   TV     Manga        26   \n",
       "2  https://myanimelist.cdn-dena.com/images/anime/...   TV     Manga        51   \n",
       "3  https://myanimelist.cdn-dena.com/images/anime/...   TV  Original        38   \n",
       "4  https://myanimelist.cdn-dena.com/images/anime/...   TV     Manga        25   \n",
       "\n",
       "            status  ...                                         background  \\\n",
       "0  Finished Airing  ...  Inu x Boku SS was licensed by Sentai Filmworks...   \n",
       "1  Finished Airing  ...                                                NaN   \n",
       "2  Finished Airing  ...                                                NaN   \n",
       "3  Finished Airing  ...  Princess Tutu aired in two parts. The first pa...   \n",
       "4  Finished Airing  ...                                                NaN   \n",
       "\n",
       "     premiered           broadcast  \\\n",
       "0  Winter 2012  Fridays at Unknown   \n",
       "1  Spring 2007             Unknown   \n",
       "2    Fall 2008             Unknown   \n",
       "3  Summer 2002  Fridays at Unknown   \n",
       "4    Fall 2012             Unknown   \n",
       "\n",
       "                                             related  \\\n",
       "0  {'Adaptation': [{'mal_id': 17207, 'type': 'man...   \n",
       "1  {'Adaptation': [{'mal_id': 759, 'type': 'manga...   \n",
       "2  {'Adaptation': [{'mal_id': 101, 'type': 'manga...   \n",
       "3  {'Adaptation': [{'mal_id': 1581, 'type': 'mang...   \n",
       "4  {'Adaptation': [{'mal_id': 9711, 'type': 'mang...   \n",
       "\n",
       "                                            producer          licensor  \\\n",
       "0  Aniplex, Square Enix, Mainichi Broadcasting Sy...  Sentai Filmworks   \n",
       "1                  TV Tokyo, AIC, Square Enix, Sotsu        Funimation   \n",
       "2                                    TV Tokyo, Sotsu               NaN   \n",
       "3                 Memory-Tech, GANSIS, Marvelous AQL         ADV Films   \n",
       "4                                      NHK, Shueisha               NaN   \n",
       "\n",
       "             studio                                     genre  \\\n",
       "0  David Production    Comedy, Supernatural, Romance, Shounen   \n",
       "1             Gonzo  Comedy, Parody, Romance, School, Shounen   \n",
       "2         Satelight             Comedy, Magic, School, Shoujo   \n",
       "3    Hal Film Maker    Comedy, Drama, Magic, Romance, Fantasy   \n",
       "4         J.C.Staff           Comedy, Drama, Romance, Shounen   \n",
       "\n",
       "                                       opening_theme  \\\n",
       "0                              ['\"Nirvana\" by MUCC']   \n",
       "1                 ['\"Romantic summer\" by SUN&LUNAR']   \n",
       "2  ['#1: \"Minna no Tamago (みんなのたまご)\" by Shugo Cha...   \n",
       "3             ['\"Morning Grace\" by Ritsuko Okazaki']   \n",
       "4  ['#1: \"Moshimo no Hanashi (もしもの話)\" by nano.RIP...   \n",
       "\n",
       "                                        ending_theme  \n",
       "0  ['#1: \"Nirvana\" by MUCC (eps 1, 11-12)', '#2: ...  \n",
       "1  ['#1: \"Ashita e no Hikari (明日への光)\" by Asuka Hi...  \n",
       "2  ['#1: \"Rottara Rottara (ロッタラ ロッタラ)\" by Buono! ...  \n",
       "3  ['\"Watashi No Ai Wa Chiisaikeredo\" by Ritsuko ...  \n",
       "4  ['#1: \"Pride on Everyday\" by Sphere (eps 1-13)...  \n",
       "\n",
       "[5 rows x 31 columns]"
      ]
     },
     "execution_count": 5,
     "metadata": {},
     "output_type": "execute_result"
    }
   ],
   "source": [
    "df.head()"
   ]
  },
  {
   "cell_type": "code",
   "execution_count": 6,
   "id": "28f919be",
   "metadata": {},
   "outputs": [
    {
     "data": {
      "text/plain": [
       "(14478, 31)"
      ]
     },
     "execution_count": 6,
     "metadata": {},
     "output_type": "execute_result"
    }
   ],
   "source": [
    "df.shape"
   ]
  },
  {
   "cell_type": "code",
   "execution_count": 7,
   "id": "0cb318fb",
   "metadata": {},
   "outputs": [
    {
     "data": {
      "text/plain": [
       "Index(['anime_id', 'title', 'title_english', 'title_japanese',\n",
       "       'title_synonyms', 'image_url', 'type', 'source', 'episodes', 'status',\n",
       "       'airing', 'aired_string', 'aired', 'duration', 'rating', 'score',\n",
       "       'scored_by', 'rank', 'popularity', 'members', 'favorites', 'background',\n",
       "       'premiered', 'broadcast', 'related', 'producer', 'licensor', 'studio',\n",
       "       'genre', 'opening_theme', 'ending_theme'],\n",
       "      dtype='object')"
      ]
     },
     "execution_count": 7,
     "metadata": {},
     "output_type": "execute_result"
    }
   ],
   "source": [
    "df.columns"
   ]
  },
  {
   "cell_type": "code",
   "execution_count": 8,
   "id": "ccc9567a",
   "metadata": {},
   "outputs": [
    {
     "data": {
      "text/html": [
       "<div>\n",
       "<style scoped>\n",
       "    .dataframe tbody tr th:only-of-type {\n",
       "        vertical-align: middle;\n",
       "    }\n",
       "\n",
       "    .dataframe tbody tr th {\n",
       "        vertical-align: top;\n",
       "    }\n",
       "\n",
       "    .dataframe thead th {\n",
       "        text-align: right;\n",
       "    }\n",
       "</style>\n",
       "<table border=\"1\" class=\"dataframe\">\n",
       "  <thead>\n",
       "    <tr style=\"text-align: right;\">\n",
       "      <th></th>\n",
       "      <th>anime_id</th>\n",
       "      <th>episodes</th>\n",
       "      <th>score</th>\n",
       "      <th>scored_by</th>\n",
       "      <th>rank</th>\n",
       "      <th>popularity</th>\n",
       "      <th>members</th>\n",
       "      <th>favorites</th>\n",
       "    </tr>\n",
       "  </thead>\n",
       "  <tbody>\n",
       "    <tr>\n",
       "      <th>count</th>\n",
       "      <td>14478.000000</td>\n",
       "      <td>14478.000000</td>\n",
       "      <td>14478.000000</td>\n",
       "      <td>1.447800e+04</td>\n",
       "      <td>12904.000000</td>\n",
       "      <td>14478.000000</td>\n",
       "      <td>1.447800e+04</td>\n",
       "      <td>14478.000000</td>\n",
       "    </tr>\n",
       "    <tr>\n",
       "      <th>mean</th>\n",
       "      <td>17377.229866</td>\n",
       "      <td>11.308399</td>\n",
       "      <td>6.142482</td>\n",
       "      <td>1.146003e+04</td>\n",
       "      <td>6439.065406</td>\n",
       "      <td>7220.259566</td>\n",
       "      <td>2.296640e+04</td>\n",
       "      <td>311.649606</td>\n",
       "    </tr>\n",
       "    <tr>\n",
       "      <th>std</th>\n",
       "      <td>13165.315011</td>\n",
       "      <td>43.443451</td>\n",
       "      <td>1.463981</td>\n",
       "      <td>4.310519e+04</td>\n",
       "      <td>3720.227608</td>\n",
       "      <td>4170.080564</td>\n",
       "      <td>7.498136e+04</td>\n",
       "      <td>2615.554211</td>\n",
       "    </tr>\n",
       "    <tr>\n",
       "      <th>min</th>\n",
       "      <td>1.000000</td>\n",
       "      <td>0.000000</td>\n",
       "      <td>0.000000</td>\n",
       "      <td>0.000000e+00</td>\n",
       "      <td>0.000000</td>\n",
       "      <td>0.000000</td>\n",
       "      <td>0.000000e+00</td>\n",
       "      <td>0.000000</td>\n",
       "    </tr>\n",
       "    <tr>\n",
       "      <th>25%</th>\n",
       "      <td>4389.250000</td>\n",
       "      <td>1.000000</td>\n",
       "      <td>5.550000</td>\n",
       "      <td>4.600000e+01</td>\n",
       "      <td>3216.250000</td>\n",
       "      <td>3611.500000</td>\n",
       "      <td>2.450000e+02</td>\n",
       "      <td>0.000000</td>\n",
       "    </tr>\n",
       "    <tr>\n",
       "      <th>50%</th>\n",
       "      <td>15135.000000</td>\n",
       "      <td>1.000000</td>\n",
       "      <td>6.370000</td>\n",
       "      <td>5.010000e+02</td>\n",
       "      <td>6441.500000</td>\n",
       "      <td>7225.500000</td>\n",
       "      <td>1.679500e+03</td>\n",
       "      <td>2.000000</td>\n",
       "    </tr>\n",
       "    <tr>\n",
       "      <th>75%</th>\n",
       "      <td>31146.500000</td>\n",
       "      <td>12.000000</td>\n",
       "      <td>7.060000</td>\n",
       "      <td>3.941500e+03</td>\n",
       "      <td>9664.000000</td>\n",
       "      <td>10827.750000</td>\n",
       "      <td>1.037900e+04</td>\n",
       "      <td>23.000000</td>\n",
       "    </tr>\n",
       "    <tr>\n",
       "      <th>max</th>\n",
       "      <td>37916.000000</td>\n",
       "      <td>1818.000000</td>\n",
       "      <td>10.000000</td>\n",
       "      <td>1.009477e+06</td>\n",
       "      <td>12919.000000</td>\n",
       "      <td>14487.000000</td>\n",
       "      <td>1.456378e+06</td>\n",
       "      <td>106895.000000</td>\n",
       "    </tr>\n",
       "  </tbody>\n",
       "</table>\n",
       "</div>"
      ],
      "text/plain": [
       "           anime_id      episodes         score     scored_by          rank  \\\n",
       "count  14478.000000  14478.000000  14478.000000  1.447800e+04  12904.000000   \n",
       "mean   17377.229866     11.308399      6.142482  1.146003e+04   6439.065406   \n",
       "std    13165.315011     43.443451      1.463981  4.310519e+04   3720.227608   \n",
       "min        1.000000      0.000000      0.000000  0.000000e+00      0.000000   \n",
       "25%     4389.250000      1.000000      5.550000  4.600000e+01   3216.250000   \n",
       "50%    15135.000000      1.000000      6.370000  5.010000e+02   6441.500000   \n",
       "75%    31146.500000     12.000000      7.060000  3.941500e+03   9664.000000   \n",
       "max    37916.000000   1818.000000     10.000000  1.009477e+06  12919.000000   \n",
       "\n",
       "         popularity       members      favorites  \n",
       "count  14478.000000  1.447800e+04   14478.000000  \n",
       "mean    7220.259566  2.296640e+04     311.649606  \n",
       "std     4170.080564  7.498136e+04    2615.554211  \n",
       "min        0.000000  0.000000e+00       0.000000  \n",
       "25%     3611.500000  2.450000e+02       0.000000  \n",
       "50%     7225.500000  1.679500e+03       2.000000  \n",
       "75%    10827.750000  1.037900e+04      23.000000  \n",
       "max    14487.000000  1.456378e+06  106895.000000  "
      ]
     },
     "execution_count": 8,
     "metadata": {},
     "output_type": "execute_result"
    }
   ],
   "source": [
    "df.describe()"
   ]
  },
  {
   "cell_type": "code",
   "execution_count": 9,
   "id": "e129d2e3",
   "metadata": {},
   "outputs": [
    {
     "data": {
      "text/plain": [
       "2"
      ]
     },
     "execution_count": 9,
     "metadata": {},
     "output_type": "execute_result"
    }
   ],
   "source": [
    "df.ndim"
   ]
  },
  {
   "cell_type": "code",
   "execution_count": 10,
   "id": "ee0f9b9a",
   "metadata": {},
   "outputs": [],
   "source": [
    "df=df.drop(['opening_theme','ending_theme','rank','background','title_synonyms','scored_by','aired','favorites', 'premiered','licensor', 'studio','status', 'airing', 'aired_string' , 'members', 'broadcast', 'producer', 'title_japanese','related','source','duration','rating','type', 'popularity'],axis=1)"
   ]
  },
  {
   "cell_type": "code",
   "execution_count": 11,
   "id": "2a3e202d",
   "metadata": {},
   "outputs": [
    {
     "data": {
      "text/plain": [
       "Index(['anime_id', 'title', 'title_english', 'image_url', 'episodes', 'score',\n",
       "       'genre'],\n",
       "      dtype='object')"
      ]
     },
     "execution_count": 11,
     "metadata": {},
     "output_type": "execute_result"
    }
   ],
   "source": [
    "df.columns"
   ]
  },
  {
   "cell_type": "code",
   "execution_count": 12,
   "id": "23999b32",
   "metadata": {},
   "outputs": [
    {
     "data": {
      "text/plain": [
       "(14478, 7)"
      ]
     },
     "execution_count": 12,
     "metadata": {},
     "output_type": "execute_result"
    }
   ],
   "source": [
    "df.shape"
   ]
  },
  {
   "cell_type": "code",
   "execution_count": 13,
   "id": "dee3ceb3",
   "metadata": {
    "scrolled": true
   },
   "outputs": [
    {
     "name": "stdout",
     "output_type": "stream",
     "text": [
      "<class 'pandas.core.frame.DataFrame'>\n",
      "RangeIndex: 14478 entries, 0 to 14477\n",
      "Data columns (total 7 columns):\n",
      " #   Column         Non-Null Count  Dtype  \n",
      "---  ------         --------------  -----  \n",
      " 0   anime_id       14478 non-null  int64  \n",
      " 1   title          14478 non-null  object \n",
      " 2   title_english  5724 non-null   object \n",
      " 3   image_url      14382 non-null  object \n",
      " 4   episodes       14478 non-null  int64  \n",
      " 5   score          14478 non-null  float64\n",
      " 6   genre          14414 non-null  object \n",
      "dtypes: float64(1), int64(2), object(4)\n",
      "memory usage: 791.9+ KB\n"
     ]
    }
   ],
   "source": [
    "df.info()"
   ]
  },
  {
   "cell_type": "code",
   "execution_count": 14,
   "id": "897619b5",
   "metadata": {},
   "outputs": [
    {
     "data": {
      "text/plain": [
       "anime_id            0\n",
       "title               0\n",
       "title_english    8754\n",
       "image_url          96\n",
       "episodes            0\n",
       "score               0\n",
       "genre              64\n",
       "dtype: int64"
      ]
     },
     "execution_count": 14,
     "metadata": {},
     "output_type": "execute_result"
    }
   ],
   "source": [
    "df.isnull().sum()"
   ]
  },
  {
   "cell_type": "code",
   "execution_count": 15,
   "id": "fe001839",
   "metadata": {},
   "outputs": [
    {
     "data": {
      "text/plain": [
       "anime_id            0\n",
       "title               0\n",
       "title_english    8754\n",
       "image_url          96\n",
       "episodes            0\n",
       "score               0\n",
       "genre              64\n",
       "dtype: int64"
      ]
     },
     "execution_count": 15,
     "metadata": {},
     "output_type": "execute_result"
    }
   ],
   "source": [
    "df.isnull().sum()"
   ]
  },
  {
   "cell_type": "code",
   "execution_count": 16,
   "id": "262955fd",
   "metadata": {},
   "outputs": [],
   "source": [
    "df.dropna(inplace=True)"
   ]
  },
  {
   "cell_type": "code",
   "execution_count": 17,
   "id": "c4372496",
   "metadata": {},
   "outputs": [
    {
     "data": {
      "text/plain": [
       "anime_id         0\n",
       "title            0\n",
       "title_english    0\n",
       "image_url        0\n",
       "episodes         0\n",
       "score            0\n",
       "genre            0\n",
       "dtype: int64"
      ]
     },
     "execution_count": 17,
     "metadata": {},
     "output_type": "execute_result"
    }
   ],
   "source": [
    "df.isnull().sum()"
   ]
  },
  {
   "cell_type": "code",
   "execution_count": 18,
   "id": "977443a1",
   "metadata": {},
   "outputs": [
    {
     "data": {
      "text/plain": [
       "0"
      ]
     },
     "execution_count": 18,
     "metadata": {},
     "output_type": "execute_result"
    }
   ],
   "source": [
    "df.duplicated().sum()"
   ]
  },
  {
   "cell_type": "code",
   "execution_count": 19,
   "id": "95d64453",
   "metadata": {},
   "outputs": [
    {
     "data": {
      "text/plain": [
       "'Comedy, Supernatural, Romance, Shounen'"
      ]
     },
     "execution_count": 19,
     "metadata": {},
     "output_type": "execute_result"
    }
   ],
   "source": [
    "df.iloc[0].genre"
   ]
  },
  {
   "cell_type": "code",
   "execution_count": 20,
   "id": "6011c8ba",
   "metadata": {},
   "outputs": [
    {
     "data": {
      "text/html": [
       "<div>\n",
       "<style scoped>\n",
       "    .dataframe tbody tr th:only-of-type {\n",
       "        vertical-align: middle;\n",
       "    }\n",
       "\n",
       "    .dataframe tbody tr th {\n",
       "        vertical-align: top;\n",
       "    }\n",
       "\n",
       "    .dataframe thead th {\n",
       "        text-align: right;\n",
       "    }\n",
       "</style>\n",
       "<table border=\"1\" class=\"dataframe\">\n",
       "  <thead>\n",
       "    <tr style=\"text-align: right;\">\n",
       "      <th></th>\n",
       "      <th>anime_id</th>\n",
       "      <th>title</th>\n",
       "      <th>title_english</th>\n",
       "      <th>image_url</th>\n",
       "      <th>episodes</th>\n",
       "      <th>score</th>\n",
       "      <th>genre</th>\n",
       "    </tr>\n",
       "  </thead>\n",
       "  <tbody>\n",
       "    <tr>\n",
       "      <th>0</th>\n",
       "      <td>11013</td>\n",
       "      <td>Inu x Boku SS</td>\n",
       "      <td>Inu X Boku Secret Service</td>\n",
       "      <td>https://myanimelist.cdn-dena.com/images/anime/...</td>\n",
       "      <td>12</td>\n",
       "      <td>7.63</td>\n",
       "      <td>Comedy, Supernatural, Romance, Shounen</td>\n",
       "    </tr>\n",
       "    <tr>\n",
       "      <th>1</th>\n",
       "      <td>2104</td>\n",
       "      <td>Seto no Hanayome</td>\n",
       "      <td>My Bride is a Mermaid</td>\n",
       "      <td>https://myanimelist.cdn-dena.com/images/anime/...</td>\n",
       "      <td>26</td>\n",
       "      <td>7.89</td>\n",
       "      <td>Comedy, Parody, Romance, School, Shounen</td>\n",
       "    </tr>\n",
       "    <tr>\n",
       "      <th>2</th>\n",
       "      <td>5262</td>\n",
       "      <td>Shugo Chara!! Doki</td>\n",
       "      <td>Shugo Chara!! Doki</td>\n",
       "      <td>https://myanimelist.cdn-dena.com/images/anime/...</td>\n",
       "      <td>51</td>\n",
       "      <td>7.55</td>\n",
       "      <td>Comedy, Magic, School, Shoujo</td>\n",
       "    </tr>\n",
       "    <tr>\n",
       "      <th>3</th>\n",
       "      <td>721</td>\n",
       "      <td>Princess Tutu</td>\n",
       "      <td>Princess Tutu</td>\n",
       "      <td>https://myanimelist.cdn-dena.com/images/anime/...</td>\n",
       "      <td>38</td>\n",
       "      <td>8.21</td>\n",
       "      <td>Comedy, Drama, Magic, Romance, Fantasy</td>\n",
       "    </tr>\n",
       "    <tr>\n",
       "      <th>4</th>\n",
       "      <td>12365</td>\n",
       "      <td>Bakuman. 3rd Season</td>\n",
       "      <td>Bakuman.</td>\n",
       "      <td>https://myanimelist.cdn-dena.com/images/anime/...</td>\n",
       "      <td>25</td>\n",
       "      <td>8.67</td>\n",
       "      <td>Comedy, Drama, Romance, Shounen</td>\n",
       "    </tr>\n",
       "    <tr>\n",
       "      <th>...</th>\n",
       "      <td>...</td>\n",
       "      <td>...</td>\n",
       "      <td>...</td>\n",
       "      <td>...</td>\n",
       "      <td>...</td>\n",
       "      <td>...</td>\n",
       "      <td>...</td>\n",
       "    </tr>\n",
       "    <tr>\n",
       "      <th>14455</th>\n",
       "      <td>26253</td>\n",
       "      <td>Mina no Mura no Gomi Soudou</td>\n",
       "      <td>Mina&amp;#039;s Village Says Yes! to Waste Management</td>\n",
       "      <td>https://myanimelist.cdn-dena.com/images/anime/...</td>\n",
       "      <td>1</td>\n",
       "      <td>5.43</td>\n",
       "      <td>Kids, Drama</td>\n",
       "    </tr>\n",
       "    <tr>\n",
       "      <th>14458</th>\n",
       "      <td>37535</td>\n",
       "      <td>Asunal Kanayama</td>\n",
       "      <td>Asunal Kanayama</td>\n",
       "      <td>https://myanimelist.cdn-dena.com/images/anime/...</td>\n",
       "      <td>2</td>\n",
       "      <td>4.33</td>\n",
       "      <td>Slice of Life</td>\n",
       "    </tr>\n",
       "    <tr>\n",
       "      <th>14460</th>\n",
       "      <td>37852</td>\n",
       "      <td>AriKiri</td>\n",
       "      <td>The Ant and the Grasshopper</td>\n",
       "      <td>https://myanimelist.cdn-dena.com/images/anime/...</td>\n",
       "      <td>0</td>\n",
       "      <td>3.00</td>\n",
       "      <td>Slice of Life</td>\n",
       "    </tr>\n",
       "    <tr>\n",
       "      <th>14464</th>\n",
       "      <td>35229</td>\n",
       "      <td>Mr. Men Little Miss</td>\n",
       "      <td>Mr. Men Little Miss</td>\n",
       "      <td>https://myanimelist.cdn-dena.com/images/anime/...</td>\n",
       "      <td>0</td>\n",
       "      <td>4.57</td>\n",
       "      <td>Kids</td>\n",
       "    </tr>\n",
       "    <tr>\n",
       "      <th>14466</th>\n",
       "      <td>36640</td>\n",
       "      <td>Mashiro Witch</td>\n",
       "      <td>Mashiro Witch - Midnight Marchen</td>\n",
       "      <td>https://myanimelist.cdn-dena.com/images/anime/...</td>\n",
       "      <td>1</td>\n",
       "      <td>4.57</td>\n",
       "      <td>Game, Magic</td>\n",
       "    </tr>\n",
       "  </tbody>\n",
       "</table>\n",
       "<p>5708 rows × 7 columns</p>\n",
       "</div>"
      ],
      "text/plain": [
       "       anime_id                        title  \\\n",
       "0         11013                Inu x Boku SS   \n",
       "1          2104             Seto no Hanayome   \n",
       "2          5262           Shugo Chara!! Doki   \n",
       "3           721                Princess Tutu   \n",
       "4         12365          Bakuman. 3rd Season   \n",
       "...         ...                          ...   \n",
       "14455     26253  Mina no Mura no Gomi Soudou   \n",
       "14458     37535              Asunal Kanayama   \n",
       "14460     37852                      AriKiri   \n",
       "14464     35229          Mr. Men Little Miss   \n",
       "14466     36640                Mashiro Witch   \n",
       "\n",
       "                                           title_english  \\\n",
       "0                              Inu X Boku Secret Service   \n",
       "1                                  My Bride is a Mermaid   \n",
       "2                                     Shugo Chara!! Doki   \n",
       "3                                          Princess Tutu   \n",
       "4                                               Bakuman.   \n",
       "...                                                  ...   \n",
       "14455  Mina&#039;s Village Says Yes! to Waste Management   \n",
       "14458                                    Asunal Kanayama   \n",
       "14460                        The Ant and the Grasshopper   \n",
       "14464                                Mr. Men Little Miss   \n",
       "14466                   Mashiro Witch - Midnight Marchen   \n",
       "\n",
       "                                               image_url  episodes  score  \\\n",
       "0      https://myanimelist.cdn-dena.com/images/anime/...        12   7.63   \n",
       "1      https://myanimelist.cdn-dena.com/images/anime/...        26   7.89   \n",
       "2      https://myanimelist.cdn-dena.com/images/anime/...        51   7.55   \n",
       "3      https://myanimelist.cdn-dena.com/images/anime/...        38   8.21   \n",
       "4      https://myanimelist.cdn-dena.com/images/anime/...        25   8.67   \n",
       "...                                                  ...       ...    ...   \n",
       "14455  https://myanimelist.cdn-dena.com/images/anime/...         1   5.43   \n",
       "14458  https://myanimelist.cdn-dena.com/images/anime/...         2   4.33   \n",
       "14460  https://myanimelist.cdn-dena.com/images/anime/...         0   3.00   \n",
       "14464  https://myanimelist.cdn-dena.com/images/anime/...         0   4.57   \n",
       "14466  https://myanimelist.cdn-dena.com/images/anime/...         1   4.57   \n",
       "\n",
       "                                          genre  \n",
       "0        Comedy, Supernatural, Romance, Shounen  \n",
       "1      Comedy, Parody, Romance, School, Shounen  \n",
       "2                 Comedy, Magic, School, Shoujo  \n",
       "3        Comedy, Drama, Magic, Romance, Fantasy  \n",
       "4               Comedy, Drama, Romance, Shounen  \n",
       "...                                         ...  \n",
       "14455                               Kids, Drama  \n",
       "14458                             Slice of Life  \n",
       "14460                             Slice of Life  \n",
       "14464                                      Kids  \n",
       "14466                               Game, Magic  \n",
       "\n",
       "[5708 rows x 7 columns]"
      ]
     },
     "execution_count": 20,
     "metadata": {},
     "output_type": "execute_result"
    }
   ],
   "source": [
    "df"
   ]
  },
  {
   "cell_type": "code",
   "execution_count": 21,
   "id": "620183d2",
   "metadata": {},
   "outputs": [
    {
     "data": {
      "text/html": [
       "<div>\n",
       "<style scoped>\n",
       "    .dataframe tbody tr th:only-of-type {\n",
       "        vertical-align: middle;\n",
       "    }\n",
       "\n",
       "    .dataframe tbody tr th {\n",
       "        vertical-align: top;\n",
       "    }\n",
       "\n",
       "    .dataframe thead th {\n",
       "        text-align: right;\n",
       "    }\n",
       "</style>\n",
       "<table border=\"1\" class=\"dataframe\">\n",
       "  <thead>\n",
       "    <tr style=\"text-align: right;\">\n",
       "      <th></th>\n",
       "      <th>anime_id</th>\n",
       "      <th>episodes</th>\n",
       "      <th>score</th>\n",
       "    </tr>\n",
       "  </thead>\n",
       "  <tbody>\n",
       "    <tr>\n",
       "      <th>anime_id</th>\n",
       "      <td>1.000000</td>\n",
       "      <td>-0.090260</td>\n",
       "      <td>-0.300593</td>\n",
       "    </tr>\n",
       "    <tr>\n",
       "      <th>episodes</th>\n",
       "      <td>-0.090260</td>\n",
       "      <td>1.000000</td>\n",
       "      <td>0.121454</td>\n",
       "    </tr>\n",
       "    <tr>\n",
       "      <th>score</th>\n",
       "      <td>-0.300593</td>\n",
       "      <td>0.121454</td>\n",
       "      <td>1.000000</td>\n",
       "    </tr>\n",
       "  </tbody>\n",
       "</table>\n",
       "</div>"
      ],
      "text/plain": [
       "          anime_id  episodes     score\n",
       "anime_id  1.000000 -0.090260 -0.300593\n",
       "episodes -0.090260  1.000000  0.121454\n",
       "score    -0.300593  0.121454  1.000000"
      ]
     },
     "execution_count": 21,
     "metadata": {},
     "output_type": "execute_result"
    }
   ],
   "source": [
    "corr = df.corr()\n",
    "corr"
   ]
  },
  {
   "cell_type": "code",
   "execution_count": 22,
   "id": "bead6602",
   "metadata": {},
   "outputs": [
    {
     "data": {
      "text/plain": [
       "<AxesSubplot:>"
      ]
     },
     "execution_count": 22,
     "metadata": {},
     "output_type": "execute_result"
    },
    {
     "data": {
      "image/png": "[encoded data removed]",
      "text/plain": [
       "<Figure size 640x480 with 2 Axes>"
      ]
     },
     "metadata": {},
     "output_type": "display_data"
    }
   ],
   "source": [
    "sns.heatmap(corr,annot=True,cbar=True, cmap='coolwarm')"
   ]
  },
  {
   "cell_type": "code",
   "execution_count": 23,
   "id": "065d1864",
   "metadata": {},
   "outputs": [
    {
     "data": {
      "text/plain": [
       "Inu x Boku SS                                              1\n",
       "Cowboy Bebop: Yose Atsume Blues                            1\n",
       "Beet the Vandel Buster                                     1\n",
       "Mama wa Poyopoyo Saurus ga Osuki                           1\n",
       "Yi Wan Nian Yi Hou                                         1\n",
       "                                                          ..\n",
       "Chika Gentou Gekiga: Shoujo Tsubaki                        1\n",
       "Abenobashi Mahou☆Shoutengai                                1\n",
       "Kabuki-bu!                                                 1\n",
       "Kyoukai no Kanata Movie 1: I&#039;ll Be Here - Kako-hen    1\n",
       "Mashiro Witch                                              1\n",
       "Name: title, Length: 5708, dtype: int64"
      ]
     },
     "execution_count": 23,
     "metadata": {},
     "output_type": "execute_result"
    }
   ],
   "source": [
    "df['title'].value_counts()"
   ]
  },
  {
   "cell_type": "code",
   "execution_count": 24,
   "id": "3f7dfa38",
   "metadata": {},
   "outputs": [
    {
     "data": {
      "text/plain": [
       "0        7.63\n",
       "1        7.89\n",
       "2        7.55\n",
       "3        8.21\n",
       "4        8.67\n",
       "         ... \n",
       "14455    5.43\n",
       "14458    4.33\n",
       "14460    3.00\n",
       "14464    4.57\n",
       "14466    4.57\n",
       "Name: score, Length: 5708, dtype: float64"
      ]
     },
     "execution_count": 24,
     "metadata": {},
     "output_type": "execute_result"
    }
   ],
   "source": [
    "df['score']"
   ]
  },
  {
   "cell_type": "code",
   "execution_count": 25,
   "id": "fc0591fa",
   "metadata": {},
   "outputs": [
    {
     "name": "stderr",
     "output_type": "stream",
     "text": [
      "C:\\Users\\devan\\anaconda3\\lib\\site-packages\\seaborn\\distributions.py:2619: FutureWarning: `distplot` is a deprecated function and will be removed in a future version. Please adapt your code to use either `displot` (a figure-level function with similar flexibility) or `histplot` (an axes-level function for histograms).\n",
      "  warnings.warn(msg, FutureWarning)\n"
     ]
    },
    {
     "data": {
      "image/png": "[encoded data removed]",
      "text/plain": [
       "<Figure size 640x480 with 1 Axes>"
      ]
     },
     "metadata": {},
     "output_type": "display_data"
    }
   ],
   "source": [
    "sns.distplot(df['score'])\n",
    "plt.show()"
   ]
  },
  {
   "cell_type": "code",
   "execution_count": 26,
   "id": "eeea1d95",
   "metadata": {},
   "outputs": [
    {
     "name": "stderr",
     "output_type": "stream",
     "text": [
      "C:\\Users\\devan\\anaconda3\\lib\\site-packages\\seaborn\\distributions.py:2619: FutureWarning: `distplot` is a deprecated function and will be removed in a future version. Please adapt your code to use either `displot` (a figure-level function with similar flexibility) or `histplot` (an axes-level function for histograms).\n",
      "  warnings.warn(msg, FutureWarning)\n"
     ]
    },
    {
     "data": {
      "image/png": "[encoded data removed]",
      "text/plain": [
       "<Figure size 640x480 with 1 Axes>"
      ]
     },
     "metadata": {},
     "output_type": "display_data"
    }
   ],
   "source": [
    "sns.distplot(df['episodes'])\n",
    "plt.show()"
   ]
  },
  {
   "cell_type": "code",
   "execution_count": 27,
   "id": "32edc8bb",
   "metadata": {},
   "outputs": [],
   "source": [
    "df['genre'].fillna('', inplace=True)"
   ]
  },
  {
   "cell_type": "code",
   "execution_count": 28,
   "id": "ec5c6bdf",
   "metadata": {},
   "outputs": [
    {
     "data": {
      "text/plain": [
       "'Comedy, Parody, Romance, School, Shounen'"
      ]
     },
     "execution_count": 28,
     "metadata": {},
     "output_type": "execute_result"
    }
   ],
   "source": [
    "df['genre'][1]"
   ]
  },
  {
   "cell_type": "code",
   "execution_count": 29,
   "id": "4a29c1ee",
   "metadata": {},
   "outputs": [
    {
     "data": {
      "text/plain": [
       "0                      Inu x Boku SS\n",
       "1                   Seto no Hanayome\n",
       "2                 Shugo Chara!! Doki\n",
       "3                      Princess Tutu\n",
       "4                Bakuman. 3rd Season\n",
       "                    ...             \n",
       "14455    Mina no Mura no Gomi Soudou\n",
       "14458                Asunal Kanayama\n",
       "14460                        AriKiri\n",
       "14464            Mr. Men Little Miss\n",
       "14466                  Mashiro Witch\n",
       "Name: title, Length: 5708, dtype: object"
      ]
     },
     "execution_count": 29,
     "metadata": {},
     "output_type": "execute_result"
    }
   ],
   "source": [
    "df['title']"
   ]
  },
  {
   "cell_type": "code",
   "execution_count": 30,
   "id": "21bd65d9",
   "metadata": {},
   "outputs": [],
   "source": [
    " df['features'] = df['genre'] + ' ' + ' ' + df['episodes'].astype(str)+ ' ' + df['score'].astype(str)"
   ]
  },
  {
   "cell_type": "code",
   "execution_count": 31,
   "id": "aa39fc92",
   "metadata": {},
   "outputs": [
    {
     "data": {
      "text/plain": [
       "'Comedy, Supernatural, Romance, Shounen  12 7.63'"
      ]
     },
     "execution_count": 31,
     "metadata": {},
     "output_type": "execute_result"
    }
   ],
   "source": [
    "df['features'][0]"
   ]
  },
  {
   "cell_type": "code",
   "execution_count": 32,
   "id": "b2c4e578",
   "metadata": {},
   "outputs": [
    {
     "data": {
      "text/plain": [
       "'Comedy, Ecchi, Fantasy  12 5.66'"
      ]
     },
     "execution_count": 32,
     "metadata": {},
     "output_type": "execute_result"
    }
   ],
   "source": [
    "df['features'][200]"
   ]
  },
  {
   "cell_type": "code",
   "execution_count": 33,
   "id": "232ef0b1",
   "metadata": {},
   "outputs": [
    {
     "data": {
      "text/plain": [
       "'Momo Kyun Sword'"
      ]
     },
     "execution_count": 33,
     "metadata": {},
     "output_type": "execute_result"
    }
   ],
   "source": [
    "df['title'][200]"
   ]
  },
  {
   "cell_type": "code",
   "execution_count": 34,
   "id": "9f9f28dd",
   "metadata": {},
   "outputs": [],
   "source": [
    "# Creating TF-IDF matrix\n",
    "from sklearn.feature_extraction.text import TfidfVectorizer\n",
    "tfidf_vectorizer = TfidfVectorizer(stop_words='english')\n",
    "tfidf_matrix = tfidf_vectorizer.fit_transform(df['features'])"
   ]
  },
  {
   "cell_type": "code",
   "execution_count": 35,
   "id": "6e27f078",
   "metadata": {},
   "outputs": [
    {
     "data": {
      "text/plain": [
       "array(['arts', 'cars', 'comedy', 'dementia', 'demons', 'drama', 'ecchi',\n",
       "       'fantasy', 'fi', 'game', 'harem', 'hentai', 'historical', 'horror',\n",
       "       'josei', 'kids', 'life', 'magic', 'martial', 'mecha', 'military',\n",
       "       'music', 'mystery', 'parody', 'police', 'power', 'psychological',\n",
       "       'romance', 'samurai', 'school', 'sci', 'seinen', 'shoujo',\n",
       "       'shounen', 'slice', 'space', 'sports', 'super', 'supernatural',\n",
       "       'thriller', 'vampire', 'yaoi', 'yuri'], dtype=object)"
      ]
     },
     "execution_count": 35,
     "metadata": {},
     "output_type": "execute_result"
    }
   ],
   "source": [
    "tfidf_vectorizer.get_feature_names_out()[-43:]"
   ]
  },
  {
   "cell_type": "code",
   "execution_count": 36,
   "id": "12ebd2b3",
   "metadata": {},
   "outputs": [],
   "source": [
    "# Calculate cosine similarity\n",
    "from sklearn.metrics.pairwise import linear_kernel\n",
    "from sklearn.metrics.pairwise import cosine_similarity\n",
    "cosine_similarities = linear_kernel(tfidf_matrix, tfidf_matrix)"
   ]
  },
  {
   "cell_type": "code",
   "execution_count": 37,
   "id": "b28433ff",
   "metadata": {},
   "outputs": [],
   "source": [
    "train_data = df[\"features\"]"
   ]
  },
  {
   "cell_type": "code",
   "execution_count": 38,
   "id": "93a6eb74",
   "metadata": {},
   "outputs": [],
   "source": [
    "tfidf_matrix_train = tfidf_vectorizer.fit_transform(train_data)"
   ]
  },
  {
   "cell_type": "code",
   "execution_count": 39,
   "id": "69dd8ebd",
   "metadata": {},
   "outputs": [
    {
     "name": "stdout",
     "output_type": "stream",
     "text": [
      "[[1.         0.25057656 0.04802471 ... 0.         0.         0.        ]\n",
      " [0.25057656 1.         0.14686261 ... 0.         0.         0.        ]\n",
      " [0.04802471 0.14686261 1.         ... 0.         0.         0.16248041]\n",
      " ...\n",
      " [0.         0.         0.         ... 1.         0.         0.        ]\n",
      " [0.         0.         0.         ... 0.         1.         0.5787341 ]\n",
      " [0.         0.         0.16248041 ... 0.         0.5787341  1.        ]]\n"
     ]
    }
   ],
   "source": [
    "print(cosine_similarities)"
   ]
  },
  {
   "cell_type": "code",
   "execution_count": 40,
   "id": "81956f9f",
   "metadata": {},
   "outputs": [],
   "source": [
    "def get_recommendations(user_genre, user_episodes,user_score):\n",
    "    user_input = f\"{user_genre}{user_episodes}{user_score}\"\n",
    "\n",
    "    # Transform user input using the same TF-IDF vectorizer\n",
    "    user_input_tfidf = tfidf_vectorizer.transform([user_input])\n",
    "\n",
    "    # Calculate cosine similarity between user input and all anime\n",
    "    cosine_similarities_user = linear_kernel(user_input_tfidf, tfidf_matrix_train).flatten()\n",
    "    # Get indices of anime with high similarity\n",
    "    similar_anime_indices = cosine_similarities_user.argsort()[:-6:-1]\n",
    "\n",
    "    # Get recommended anime names\n",
    "    recommended_anime_info = df.iloc[similar_anime_indices][['title', 'genre','title_english','image_url']].to_dict(orient='records')\n",
    "\n",
    "    return recommended_anime_info"
   ]
  },
  {
   "cell_type": "code",
   "execution_count": 41,
   "id": "60d5650b",
   "metadata": {
    "scrolled": true
   },
   "outputs": [
    {
     "name": "stdout",
     "output_type": "stream",
     "text": [
      "Recommended Anime:\n",
      "[{'title': 'Mashiro Witch', 'genre': 'Game, Magic', 'title_english': 'Mashiro Witch - Midnight Marchen', 'image_url': 'https://myanimelist.cdn-dena.com/images/anime/9/88536.jpg'}, {'title': 'Nunbori', 'genre': 'Fantasy, Kids', 'title_english': 'Noonbory and the Super Seven', 'image_url': 'https://myanimelist.cdn-dena.com/images/anime/12/55481.jpg'}, {'title': 'RS Keikaku: Rebirth Storage', 'genre': 'Mecha', 'title_english': 'RS Project: Rebirth Storage', 'image_url': 'https://myanimelist.cdn-dena.com/images/anime/2/80584.jpg'}, {'title': 'Kyoukai no Kanata Movie 1: I&#039;ll Be Here - Kako-hen', 'genre': 'Action, Supernatural, Fantasy', 'title_english': 'Beyond the Boundary: I&#039;ll Be Here - Past', 'image_url': 'https://myanimelist.cdn-dena.com/images/anime/6/73298.jpg'}, {'title': 'Kabuki-bu!', 'genre': 'School', 'title_english': 'Kabukibu!', 'image_url': 'https://myanimelist.cdn-dena.com/images/anime/4/85291.jpg'}]\n"
     ]
    }
   ],
   "source": [
    "user_genre =  \"Comedy\"\n",
    "user_episodes = 12\n",
    "user_score=7\n",
    "\n",
    "#Fantasy 8089.0 12 5.66==200\n",
    "recommended_anime_names = get_recommendations(user_genre, user_episodes,user_score)\n",
    "print(\"Recommended Anime:\")\n",
    "print(recommended_anime_names)"
   ]
  },
  {
   "cell_type": "code",
   "execution_count": 42,
   "id": "3f7ff98f",
   "metadata": {},
   "outputs": [
    {
     "data": {
      "text/plain": [
       "['tfidf_vectorizer_model.joblib']"
      ]
     },
     "execution_count": 42,
     "metadata": {},
     "output_type": "execute_result"
    }
   ],
   "source": [
    "import joblib\n",
    "\n",
    "# Save the TF-IDF vectorizer\n",
    "joblib.dump(tfidf_vectorizer, 'tfidf_vectorizer_model.joblib')"
   ]
  },
  {
   "cell_type": "code",
   "execution_count": 43,
   "id": "0d7d11f5",
   "metadata": {},
   "outputs": [
    {
     "data": {
      "text/plain": [
       "['cosine_similarities_model.joblib']"
      ]
     },
     "execution_count": 43,
     "metadata": {},
     "output_type": "execute_result"
    }
   ],
   "source": [
    "# Save the model\n",
    "joblib.dump(cosine_similarities, 'cosine_similarities_model.joblib')\n"
   ]
  },
  {
   "cell_type": "code",
   "execution_count": 44,
   "id": "aae51316",
   "metadata": {},
   "outputs": [
    {
     "name": "stdout",
     "output_type": "stream",
     "text": [
      "Training vocabulary size: 196\n"
     ]
    }
   ],
   "source": [
    "print(\"Training vocabulary size:\", len(tfidf_vectorizer.vocabulary_))"
   ]
  },
  {
   "cell_type": "code",
   "execution_count": 45,
   "id": "d9eb5da4",
   "metadata": {},
   "outputs": [
    {
     "data": {
      "text/plain": [
       "['tfidf_matrix_train.joblib']"
      ]
     },
     "execution_count": 45,
     "metadata": {},
     "output_type": "execute_result"
    }
   ],
   "source": [
    "# During training\n",
    "joblib.dump(tfidf_matrix_train, 'tfidf_matrix_train.joblib')"
   ]
  },
  {
   "cell_type": "code",
   "execution_count": null,
   "id": "574f6c31",
   "metadata": {},
   "outputs": [],
   "source": []
  }
 ],
 "metadata": {
  "kernelspec": {
   "display_name": "Python 3 (ipykernel)",
   "language": "python",
   "name": "python3"
  },
  "language_info": {
   "codemirror_mode": {
    "name": "ipython",
    "version": 3
   },
   "file_extension": ".py",
   "mimetype": "text/x-python",
   "name": "python",
   "nbconvert_exporter": "python",
   "pygments_lexer": "ipython3",
   "version": "3.9.13"
  }
 },
 "nbformat": 4,
 "nbformat_minor": 5
}
